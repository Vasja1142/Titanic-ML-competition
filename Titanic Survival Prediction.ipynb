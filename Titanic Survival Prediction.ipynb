{
 "cells": [
  {
   "cell_type": "markdown",
   "id": "440bbbfd",
   "metadata": {},
   "source": [
    "### 1. ИМПОРТЫ"
   ]
  },
  {
   "cell_type": "code",
   "execution_count": 44,
   "id": "279f3599",
   "metadata": {},
   "outputs": [],
   "source": [
    "import os \n",
    "import pandas as pd\n",
    "from sklearn.model_selection import train_test_split\n",
    "import matplotlib.pyplot as plt\n",
    "\n",
    "import torch\n",
    "import torch.nn as nn\n",
    "from torch.utils.data import Dataset, DataLoader\n",
    "import numpy as np\n",
    "import torch.nn.functional as F\n",
    "from torch.optim.lr_scheduler import ReduceLROnPlateau"
   ]
  },
  {
   "cell_type": "markdown",
   "id": "f3e02f40",
   "metadata": {},
   "source": [
    "### 2. ЗАГРУЗКА И ПЕРВИЧНАЯ ОБРАБОТКА ДАННЫХ"
   ]
  },
  {
   "cell_type": "code",
   "execution_count": 45,
   "id": "e9180644",
   "metadata": {},
   "outputs": [
    {
     "name": "stdout",
     "output_type": "stream",
     "text": [
      "Данные успешно загружены!\n",
      "\n",
      "Размер тренировочного набора: (891, 11)\n",
      "Размер тестового набора: (418, 10)\n",
      "\n",
      "Первые 5 строк тренировочного набора:\n",
      "   Выжил  Класс Билета                                                Имя     Пол  Возраст  Братьев/Сестер/Супругов на борту  Родителей/Детей на борту      Номер Билета    Тариф Каюта Порт Посадки\n",
      "0      0             3                            Braund, Mr. Owen Harris    male     22.0                                 1                         0         A/5 21171   7.2500   NaN            S\n",
      "1      1             1  Cumings, Mrs. John Bradley (Florence Briggs Th...  female     38.0                                 1                         0          PC 17599  71.2833   C85            C\n",
      "2      1             3                             Heikkinen, Miss. Laina  female     26.0                                 0                         0  STON/O2. 3101282   7.9250   NaN            S\n",
      "3      1             1       Futrelle, Mrs. Jacques Heath (Lily May Peel)  female     35.0                                 1                         0            113803  53.1000  C123            S\n",
      "4      0             3                           Allen, Mr. William Henry    male     35.0                                 0                         0            373450   8.0500   NaN            S\n",
      "\n",
      "Всего пассажиров с пропущенным возрастом: 177\n"
     ]
    }
   ],
   "source": [
    "# Настройка путей к данным\n",
    "PATH = \"data\"\n",
    "pd.set_option('display.width', 1000)  # Для корректного отображения таблиц\n",
    "\n",
    "FILETEST = os.path.join(PATH, \"test.csv\")    \n",
    "FILETRAIN = os.path.join(PATH, \"train.csv\") \n",
    "\n",
    "# Словарь для перевода названий столбцов\n",
    "column_translation = {\n",
    "    'Survived': 'Выжил',\n",
    "    'Pclass': 'Класс Билета',\n",
    "    'Name': 'Имя',\n",
    "    'Sex': 'Пол',\n",
    "    'Age': 'Возраст',\n",
    "    'SibSp': 'Братьев/Сестер/Супругов на борту',\n",
    "    'Parch': 'Родителей/Детей на борту',\n",
    "    'Ticket': 'Номер Билета',\n",
    "    'Fare': 'Тариф',\n",
    "    'Cabin': 'Каюта',\n",
    "    'Embarked': 'Порт Посадки'\n",
    "}\n",
    "\n",
    "# Загрузка данных\n",
    "try:\n",
    "    df_train = pd.read_csv(FILETRAIN)\n",
    "    df_test = pd.read_csv(FILETEST)\n",
    "    \n",
    "    # Сохраняем копию тестовых данных для создания submission\n",
    "    df_test_original = df_test.copy()\n",
    "    \n",
    "    # Удаляем PassengerId из рабочих копий\n",
    "    df_train.drop('PassengerId', axis=1, inplace=True)\n",
    "    df_test.drop('PassengerId', axis=1, inplace=True)\n",
    "    \n",
    "    # Переименовываем столбцы\n",
    "    df_train.rename(columns=column_translation, inplace=True, errors='ignore')\n",
    "    df_test.rename(columns=column_translation, inplace=True, errors='ignore')\n",
    "    \n",
    "    print(\"Данные успешно загружены!\")\n",
    "    print(f\"\\nРазмер тренировочного набора: {df_train.shape}\")\n",
    "    print(f\"Размер тестового набора: {df_test.shape}\")\n",
    "    print(\"\\nПервые 5 строк тренировочного набора:\")\n",
    "    print(df_train.head())\n",
    "    \n",
    "except FileNotFoundError:\n",
    "    print(f\"Ошибка: Один из файлов не найден. Проверьте пути:\\n- {FILETRAIN}\\n- {FILETEST}\")\n",
    "except Exception as e:\n",
    "    print(f\"Произошла ошибка при загрузке данных: {e}\")\n",
    "\n",
    "# Анализ пропущенных данных\n",
    "print(f\"\\nВсего пассажиров с пропущенным возрастом: {df_train['Возраст'].isnull().sum()}\")\n",
    "\n"
   ]
  },
  {
   "cell_type": "markdown",
   "id": "8a3455df",
   "metadata": {},
   "source": [
    "### 3. ИЗВЛЕЧЕНИЕ ДОПОЛНИТЕЛЬНЫХ ПРИЗНАКОВ"
   ]
  },
  {
   "cell_type": "code",
   "execution_count": 46,
   "id": "12663945",
   "metadata": {},
   "outputs": [
    {
     "name": "stdout",
     "output_type": "stream",
     "text": [
      "\n",
      "Уникальные титулы в тренировочном наборе:\n",
      "Титул\n",
      "Mr        517\n",
      "Miss      185\n",
      "Mrs       126\n",
      "Master     40\n",
      "Rare       22\n",
      "Name: count, dtype: int64\n"
     ]
    }
   ],
   "source": [
    "def extract_features(df):\n",
    "    \"\"\"Извлекает дополнительные признаки из имени пассажира\"\"\"\n",
    "    # Извлекаем фамилию (до первой запятой)\n",
    "    df['Фамилия'] = df['Имя'].apply(lambda name: name.split(',')[0].strip())\n",
    "    \n",
    "    # Извлекаем титул (статус)\n",
    "    df['Титул'] = df['Имя'].str.extract(r',\\s*([A-Za-z]+)\\.', expand=False)\n",
    "    \n",
    "    return df\n",
    "\n",
    "# Применяем извлечение признаков\n",
    "df_train = extract_features(df_train)\n",
    "df_test = extract_features(df_test)\n",
    "\n",
    "# Стандартизация титулов\n",
    "def standardize_titles(df):\n",
    "    \"\"\"Стандартизирует редкие титулы\"\"\"\n",
    "    rare_titles = ['Dr', 'Rev', 'Major', 'Col', 'Don', 'Lady', 'Sir', 'Capt', \n",
    "                   'Jonkheer', 'Dona', 'Countess']\n",
    "    \n",
    "    df['Титул'] = df['Титул'].replace(rare_titles, 'Rare')\n",
    "    df['Титул'] = df['Титул'].replace(['Mlle', 'Ms'], 'Miss')\n",
    "    df['Титул'] = df['Титул'].replace('Mme', 'Mrs')\n",
    "    \n",
    "    return df\n",
    "\n",
    "df_train = standardize_titles(df_train)\n",
    "df_test = standardize_titles(df_test)\n",
    "\n",
    "print(\"\\nУникальные титулы в тренировочном наборе:\")\n",
    "print(df_train['Титул'].value_counts())\n"
   ]
  },
  {
   "cell_type": "markdown",
   "id": "cba33956",
   "metadata": {},
   "source": [
    "### 4. ОБРАБОТКА ПРОПУЩЕННЫХ ЗНАЧЕНИЙ"
   ]
  },
  {
   "cell_type": "code",
   "execution_count": 47,
   "id": "840c9d95",
   "metadata": {},
   "outputs": [
    {
     "name": "stdout",
     "output_type": "stream",
     "text": [
      "Пропуски в 'Возраст' df_test заполнены медианой: 28.0\n",
      "Пропуски в 'Тариф' df_test заполнены медианой: 14.4542\n",
      "\n",
      "Размер тренировочного набора после очистки: (711, 13)\n"
     ]
    }
   ],
   "source": [
    "# Заполнение пропусков в возрасте для тестового набора\n",
    "if df_test['Возраст'].isnull().any():\n",
    "    age_median_train = df_train['Возраст'].median()\n",
    "    df_test['Возраст'] = df_test['Возраст'].fillna(age_median_train)\n",
    "    print(f\"Пропуски в 'Возраст' df_test заполнены медианой: {age_median_train}\")\n",
    "\n",
    "# Заполнение пропусков в тарифе для тестового набора\n",
    "if df_test['Тариф'].isnull().any():\n",
    "    fare_median_train = df_train['Тариф'].median()\n",
    "    df_test['Тариф'] = df_test['Тариф'].fillna(fare_median_train)\n",
    "    print(f\"Пропуски в 'Тариф' df_test заполнены медианой: {fare_median_train}\")\n",
    "\n",
    "# Удаление строк с пропущенными значениями из тренировочного набора\n",
    "df_train.dropna(subset=['Порт Посадки', 'Титул', 'Возраст'], inplace=True)\n",
    "\n",
    "print(f\"\\nРазмер тренировочного набора после очистки: {df_train.shape}\")"
   ]
  },
  {
   "cell_type": "markdown",
   "id": "1cac0327",
   "metadata": {},
   "source": [
    "### 5. ОБРАБОТКА БИЛЕТОВ"
   ]
  },
  {
   "cell_type": "code",
   "execution_count": 48,
   "id": "84b78da2",
   "metadata": {},
   "outputs": [],
   "source": [
    "def process_tickets(df):\n",
    "    \"\"\"Обрабатывает номера билетов, извлекая префикс и серию\"\"\"\n",
    "    # Извлечение префикса билета\n",
    "    df['Префикс Билета'] = df['Номер Билета'].apply(\n",
    "        lambda name: (\n",
    "            'NONE' \n",
    "            if (name.split(' ')[0].strip() == name.split(' ')[-1].strip())\n",
    "            else name.split(' ')[0].strip()\n",
    "        )\n",
    "    )\n",
    "    \n",
    "    # Извлечение серии билета\n",
    "    df['Серия Билета'] = df['Номер Билета'].apply(\n",
    "        lambda name: name.split(' ')[-1].strip()\n",
    "    )\n",
    "    \n",
    "    # Нормализация префиксов\n",
    "    df['Префикс Билета'] = df['Префикс Билета'].str.upper()\n",
    "    df['Префикс Билета'] = df['Префикс Билета'].str.replace('.', '', regex=False)\n",
    "    df['Префикс Билета'] = df['Префикс Билета'].str.replace('/', '', regex=False)\n",
    "    \n",
    "    return df\n",
    "\n",
    "df_train = process_tickets(df_train)\n",
    "df_test = process_tickets(df_test)\n",
    "\n",
    "# Нормализация префиксов билетов\n",
    "def normalize_prefix(current_prefix_value, target_prefixes):\n",
    "    \"\"\"Нормализует префиксы билетов к стандартным значениям\"\"\"\n",
    "    if not isinstance(current_prefix_value, str):\n",
    "        return current_prefix_value \n",
    "    \n",
    "    for pref_target in target_prefixes:\n",
    "        if pref_target in current_prefix_value:\n",
    "            return pref_target\n",
    "    return current_prefix_value\n",
    "\n",
    "list_pref = ['SOTON', 'STON', 'PARIS', 'PP', 'A4', 'A5']\n",
    "df_train['Префикс Билета'] = df_train['Префикс Билета'].apply(\n",
    "    lambda x: normalize_prefix(x, list_pref)\n",
    ")\n",
    "df_test['Префикс Билета'] = df_test['Префикс Билета'].apply(\n",
    "    lambda x: normalize_prefix(x, list_pref)\n",
    ")\n",
    "\n",
    "# Обработка редких префиксов\n",
    "threshold = 5\n",
    "prefix_counts_train = df_train['Префикс Билета'].value_counts()\n",
    "rare_prefixes_train = prefix_counts_train[prefix_counts_train < threshold].index.tolist()\n",
    "\n",
    "df_train['Префикс Билета'] = df_train['Префикс Билета'].apply(\n",
    "    lambda x: 'RARE' if x in rare_prefixes_train else x\n",
    ")\n",
    "\n",
    "frequent_prefixes_train = prefix_counts_train[prefix_counts_train >= threshold].index.tolist()\n",
    "if 'NONE' not in frequent_prefixes_train and 'NONE' in df_train['Префикс Билета'].unique():\n",
    "    frequent_prefixes_train.append('NONE')\n",
    "\n",
    "df_test['Префикс Билета'] = df_test['Префикс Билета'].apply(\n",
    "    lambda x: x if x in frequent_prefixes_train else 'RARE'\n",
    ")"
   ]
  },
  {
   "cell_type": "markdown",
   "id": "2aefe52d",
   "metadata": {},
   "source": [
    "### 6. ПРЕОБРАЗОВАНИЕ ТИПОВ ДАННЫХ"
   ]
  },
  {
   "cell_type": "code",
   "execution_count": 49,
   "id": "7e06a37b",
   "metadata": {},
   "outputs": [],
   "source": [
    "# Преобразование пола в числовой формат\n",
    "gender_mapping = {'male': 0, 'female': 1}\n",
    "df_train['Пол'] = df_train['Пол'].map(gender_mapping)\n",
    "df_test['Пол'] = df_test['Пол'].map(gender_mapping)\n",
    "\n",
    "# Извлечение палубы из номера каюты\n",
    "df_train['Палуба'] = df_train['Каюта'].apply(\n",
    "    lambda x: str(x)[0] if pd.notnull(x) else 'U'\n",
    ")\n",
    "df_test['Палуба'] = df_test['Каюта'].apply(\n",
    "    lambda x: str(x)[0] if pd.notnull(x) else 'U'\n",
    ")\n",
    "\n",
    "# Удаление ненужных столбцов\n",
    "columns_to_drop = ['Каюта', 'Номер Билета', 'Имя']\n",
    "df_train.drop(columns_to_drop, axis=1, inplace=True)\n",
    "df_test.drop(columns_to_drop, axis=1, inplace=True)\n",
    "\n",
    "# Обработка серии билета\n",
    "df_train['Серия Билета'] = df_train['Серия Билета'].str.replace(\"LINE\", '0', regex=False)\n",
    "df_train['Серия Билета'] = df_train['Серия Билета'].astype(int)\n",
    "df_test['Серия Билета'] = df_test['Серия Билета'].str.replace(\"LINE\", '0', regex=False)\n",
    "df_test['Серия Билета'] = df_test['Серия Билета'].astype(int)"
   ]
  },
  {
   "cell_type": "markdown",
   "id": "8790b613",
   "metadata": {},
   "source": [
    "### 7. ПОДГОТОВКА ДАННЫХ ДЛЯ ОБУЧЕНИЯ"
   ]
  },
  {
   "cell_type": "code",
   "execution_count": 50,
   "id": "3537cdfb",
   "metadata": {},
   "outputs": [
    {
     "name": "stdout",
     "output_type": "stream",
     "text": [
      "\n",
      "Размер до One-Hot Encoding:\n",
      "Train: (711, 13), Test: (418, 12)\n",
      "\n",
      "Размер после обработки:\n",
      "Train: (711, 19), Test: (418, 18)\n",
      "\n",
      "Разделение данных:\n",
      "X_train: (533, 18), y_train: (533,)\n",
      "X_val: (178, 18), y_val: (178,)\n"
     ]
    }
   ],
   "source": [
    "# Определение целевой переменной и признаков\n",
    "target = 'Выжил'\n",
    "categorical_features = ['Титул', 'Палуба']\n",
    "\n",
    "# Создание копий для обработки\n",
    "df_train_processed = df_train.copy()\n",
    "df_test_processed = df_test.copy()\n",
    "\n",
    "print(f\"\\nРазмер до One-Hot Encoding:\")\n",
    "print(f\"Train: {df_train_processed.shape}, Test: {df_test_processed.shape}\")\n",
    "\n",
    "# One-Hot Encoding для категориальных признаков\n",
    "df_train_processed = pd.get_dummies(\n",
    "    df_train_processed, \n",
    "    columns=categorical_features, \n",
    "    drop_first=True, \n",
    "    dtype=int\n",
    ")\n",
    "df_test_processed = pd.get_dummies(\n",
    "    df_test_processed, \n",
    "    columns=categorical_features, \n",
    "    drop_first=True, \n",
    "    dtype=int\n",
    ")\n",
    "\n",
    "# Удаление дополнительных столбцов\n",
    "additional_drops = ['Фамилия', 'Серия Билета', 'Префикс Билета', 'Порт Посадки']\n",
    "df_train_processed.drop(additional_drops, axis=1, inplace=True, errors='ignore')\n",
    "df_test_processed.drop(additional_drops, axis=1, inplace=True, errors='ignore')\n",
    "\n",
    "\n",
    "# Выравнивание столбцов между train и test\n",
    "train_cols = df_train_processed.drop(target, axis=1, errors='ignore').columns.tolist()\n",
    "test_cols = df_test_processed.columns.tolist()\n",
    "\n",
    "# Добавление отсутствующих столбцов в test\n",
    "for col in train_cols:\n",
    "    if col not in test_cols:\n",
    "        df_test_processed[col] = 0\n",
    "\n",
    "# Удаление лишних столбцов из test\n",
    "for col in test_cols:\n",
    "    if col not in train_cols:\n",
    "        print(f\"ВНИМАНИЕ: Удаляем столбец '{col}' из test набора\")\n",
    "        df_test_processed.drop(col, axis=1, inplace=True)\n",
    "\n",
    "print(f\"\\nРазмер после обработки:\")\n",
    "print(f\"Train: {df_train_processed.shape}, Test: {df_test_processed.shape}\")\n",
    "\n",
    "# Разделение на признаки и целевую переменную\n",
    "X = df_train_processed.drop(target, axis=1)\n",
    "y = df_train_processed[target]\n",
    "X_test_final = df_test_processed.copy()\n",
    "\n",
    "# Разделение на обучающую и валидационную выборки\n",
    "X_train, X_val, y_train, y_val = train_test_split(\n",
    "    X, y, \n",
    "    test_size=0.25, \n",
    "    random_state=42, \n",
    "    stratify=y\n",
    ")\n",
    "\n",
    "print(f\"\\nРазделение данных:\")\n",
    "print(f\"X_train: {X_train.shape}, y_train: {y_train.shape}\")\n",
    "print(f\"X_val: {X_val.shape}, y_val: {y_val.shape}\")"
   ]
  },
  {
   "cell_type": "markdown",
   "id": "766a99b7",
   "metadata": {},
   "source": [
    "### 8. ПРЕОБРАЗОВАНИЕ В PYTORCH ТЕНЗОРЫ"
   ]
  },
  {
   "cell_type": "code",
   "execution_count": 51,
   "id": "45286c03",
   "metadata": {},
   "outputs": [
    {
     "name": "stdout",
     "output_type": "stream",
     "text": [
      "Данные преобразованы в тензоры PyTorch\n",
      "X_train_tensor: torch.Size([533, 18])\n",
      "y_train_tensor: torch.Size([533, 1])\n"
     ]
    }
   ],
   "source": [
    "# Преобразование в тензоры PyTorch\n",
    "X_train_tensor = torch.tensor(X_train.values, dtype=torch.float32)\n",
    "X_val_tensor = torch.tensor(X_val.values, dtype=torch.float32)\n",
    "X_test_tensor = torch.tensor(X_test_final.values, dtype=torch.float32)\n",
    "\n",
    "y_train_tensor = torch.tensor(y_train.values, dtype=torch.float32).unsqueeze(1)\n",
    "y_val_tensor = torch.tensor(y_val.values, dtype=torch.float32).unsqueeze(1)\n",
    "\n",
    "print(\"Данные преобразованы в тензоры PyTorch\")\n",
    "print(f\"X_train_tensor: {X_train_tensor.shape}\")\n",
    "print(f\"y_train_tensor: {y_train_tensor.shape}\")"
   ]
  },
  {
   "cell_type": "markdown",
   "id": "eb118655",
   "metadata": {},
   "source": [
    "### 9. СОЗДАНИЕ DATASET И DATALOADER"
   ]
  },
  {
   "cell_type": "code",
   "execution_count": 52,
   "id": "de19a98f",
   "metadata": {},
   "outputs": [
    {
     "name": "stdout",
     "output_type": "stream",
     "text": [
      "\n",
      "DataLoader'ы созданы с размером батча: 16\n"
     ]
    }
   ],
   "source": [
    "class TitanicDataset(Dataset):\n",
    "    \"\"\"Класс для работы с данными Titanic\"\"\"\n",
    "    \n",
    "    def __init__(self, features, labels=None):\n",
    "        self.features = features\n",
    "        self.labels = labels\n",
    "        self.is_test = labels is None\n",
    "    \n",
    "    def __len__(self):\n",
    "        return len(self.features)\n",
    "    \n",
    "    def __getitem__(self, idx):\n",
    "        item_features = self.features[idx]\n",
    "        if self.is_test:\n",
    "            return item_features\n",
    "        else:\n",
    "            item_labels = self.labels[idx]\n",
    "            return item_features, item_labels\n",
    "\n",
    "# Создание datasets\n",
    "train_dataset = TitanicDataset(X_train_tensor, y_train_tensor)\n",
    "val_dataset = TitanicDataset(X_val_tensor, y_val_tensor)\n",
    "test_dataset = TitanicDataset(X_test_tensor)\n",
    "\n",
    "# Создание dataloaders\n",
    "BATCH_SIZE = 16\n",
    "train_loader = DataLoader(dataset=train_dataset, batch_size=BATCH_SIZE, shuffle=True)\n",
    "val_loader = DataLoader(dataset=val_dataset, batch_size=BATCH_SIZE, shuffle=False)\n",
    "test_loader = DataLoader(dataset=test_dataset, batch_size=BATCH_SIZE, shuffle=False)\n",
    "\n",
    "print(f\"\\nDataLoader'ы созданы с размером батча: {BATCH_SIZE}\")\n"
   ]
  },
  {
   "cell_type": "markdown",
   "id": "db2184f6",
   "metadata": {},
   "source": [
    "### 10. ОПРЕДЕЛЕНИЕ МОДЕЛИ"
   ]
  },
  {
   "cell_type": "code",
   "execution_count": 53,
   "id": "b1fa5144",
   "metadata": {},
   "outputs": [
    {
     "name": "stdout",
     "output_type": "stream",
     "text": [
      "\n",
      "Архитектура модели:\n",
      "LogisticRegressionModel(\n",
      "  (bn1): BatchNorm1d(18, eps=1e-05, momentum=0.1, affine=True, track_running_stats=True)\n",
      "  (linear): Linear(in_features=18, out_features=1, bias=True)\n",
      ")\n"
     ]
    }
   ],
   "source": [
    "class LogisticRegressionModel(nn.Module):\n",
    "    \"\"\"Модель логистической регрессии с батч-нормализацией\"\"\"\n",
    "    \n",
    "    def __init__(self, num_input_features, num_output_features):\n",
    "        super(LogisticRegressionModel, self).__init__()\n",
    "        self.bn1 = nn.BatchNorm1d(num_input_features)\n",
    "        self.linear = nn.Linear(num_input_features, num_output_features)\n",
    "    \n",
    "    def forward(self, x):\n",
    "        x = self.bn1(x)\n",
    "        x = self.linear(x)\n",
    "        return x\n",
    "\n",
    "# Создание модели\n",
    "input_features = X_train_tensor.shape[1]\n",
    "output_units = 1\n",
    "\n",
    "model = LogisticRegressionModel(input_features, output_units)\n",
    "print(\"\\nАрхитектура модели:\")\n",
    "print(model)"
   ]
  },
  {
   "cell_type": "markdown",
   "id": "341add5c",
   "metadata": {},
   "source": [
    "### 11. НАСТРОЙКА ОБУЧЕНИЯ"
   ]
  },
  {
   "cell_type": "code",
   "execution_count": 54,
   "id": "7c28ae42",
   "metadata": {},
   "outputs": [
    {
     "name": "stdout",
     "output_type": "stream",
     "text": [
      "Настройка обучения завершена:\n",
      "Функция потерь: BCEWithLogitsLoss()\n",
      "Оптимизатор: RAdam (\n",
      "Parameter Group 0\n",
      "    betas: (0.9, 0.999)\n",
      "    capturable: False\n",
      "    decoupled_weight_decay: False\n",
      "    differentiable: False\n",
      "    eps: 1e-08\n",
      "    foreach: None\n",
      "    lr: 0.001\n",
      "    maximize: False\n",
      "    weight_decay: 0.0001\n",
      ")\n"
     ]
    }
   ],
   "source": [
    "# Определение функции потерь и оптимизатора\n",
    "criterion = nn.BCEWithLogitsLoss()\n",
    "learning_rate = 0.001\n",
    "optimizer = torch.optim.RAdam(model.parameters(), lr=learning_rate, weight_decay=0.0001)\n",
    "\n",
    "# Планировщик скорости обучения\n",
    "scheduler = ReduceLROnPlateau(optimizer, mode='min', factor=0.5, patience=10)\n",
    "\n",
    "print(\"Настройка обучения завершена:\")\n",
    "print(f\"Функция потерь: {criterion}\")\n",
    "print(f\"Оптимизатор: {optimizer}\")"
   ]
  },
  {
   "cell_type": "markdown",
   "id": "7f03a67d",
   "metadata": {},
   "source": [
    "### 12. ЦИКЛ ОБУЧЕНИЯ"
   ]
  },
  {
   "cell_type": "code",
   "execution_count": 55,
   "id": "41d36da0",
   "metadata": {},
   "outputs": [
    {
     "name": "stdout",
     "output_type": "stream",
     "text": [
      "\n",
      "Обучение будет производиться на: cuda\n",
      "\n",
      "Начинаем обучение на 200 эпох...\n",
      "Эпоха [1/200]:\n",
      "  Train Loss: 0.7686\n",
      "  Val Loss: 0.7318\n",
      "  Val Accuracy: 0.4213\n",
      "  Learning Rate: 0.001000\n",
      "--------------------------------------------------\n",
      "Эпоха [20/200]:\n",
      "  Train Loss: 0.5533\n",
      "  Val Loss: 0.5051\n",
      "  Val Accuracy: 0.7640\n",
      "  Learning Rate: 0.001000\n",
      "--------------------------------------------------\n",
      "Эпоха [40/200]:\n",
      "  Train Loss: 0.4580\n",
      "  Val Loss: 0.4541\n",
      "  Val Accuracy: 0.7809\n",
      "  Learning Rate: 0.001000\n",
      "--------------------------------------------------\n",
      "Эпоха [60/200]:\n",
      "  Train Loss: 0.4579\n",
      "  Val Loss: 0.4385\n",
      "  Val Accuracy: 0.7978\n",
      "  Learning Rate: 0.001000\n",
      "--------------------------------------------------\n",
      "Эпоха [80/200]:\n",
      "  Train Loss: 0.4535\n",
      "  Val Loss: 0.4371\n",
      "  Val Accuracy: 0.7865\n",
      "  Learning Rate: 0.001000\n",
      "--------------------------------------------------\n",
      "Эпоха [100/200]:\n",
      "  Train Loss: 0.4573\n",
      "  Val Loss: 0.4342\n",
      "  Val Accuracy: 0.8202\n",
      "  Learning Rate: 0.000500\n",
      "--------------------------------------------------\n",
      "Эпоха [120/200]:\n",
      "  Train Loss: 0.4532\n",
      "  Val Loss: 0.4341\n",
      "  Val Accuracy: 0.8315\n",
      "  Learning Rate: 0.000250\n",
      "--------------------------------------------------\n",
      "Эпоха [140/200]:\n",
      "  Train Loss: 0.4388\n",
      "  Val Loss: 0.4324\n",
      "  Val Accuracy: 0.8146\n",
      "  Learning Rate: 0.000063\n",
      "--------------------------------------------------\n",
      "Эпоха [160/200]:\n",
      "  Train Loss: 0.4398\n",
      "  Val Loss: 0.4345\n",
      "  Val Accuracy: 0.8315\n",
      "  Learning Rate: 0.000016\n",
      "--------------------------------------------------\n",
      "Эпоха [180/200]:\n",
      "  Train Loss: 0.4285\n",
      "  Val Loss: 0.4333\n",
      "  Val Accuracy: 0.8202\n",
      "  Learning Rate: 0.000008\n",
      "--------------------------------------------------\n",
      "Эпоха [200/200]:\n",
      "  Train Loss: 0.4374\n",
      "  Val Loss: 0.4328\n",
      "  Val Accuracy: 0.8258\n",
      "  Learning Rate: 0.000002\n",
      "--------------------------------------------------\n",
      "\n",
      "Обучение завершено!\n"
     ]
    }
   ],
   "source": [
    "# Настройка устройства\n",
    "device = torch.device(\"cuda\" if torch.cuda.is_available() else \"cpu\")\n",
    "print(f\"\\nОбучение будет производиться на: {device}\")\n",
    "model.to(device)\n",
    "\n",
    "# Гиперпараметры\n",
    "num_epochs = 200\n",
    "train_losses = []\n",
    "val_losses = []\n",
    "val_accuracies = []\n",
    "\n",
    "print(f\"\\nНачинаем обучение на {num_epochs} эпох...\")\n",
    "\n",
    "for epoch in range(num_epochs):\n",
    "    # Фаза обучения\n",
    "    model.train()\n",
    "    current_epoch_train_loss = 0.0\n",
    "    \n",
    "    for batch_idx, (features, labels) in enumerate(train_loader):\n",
    "        features = features.to(device)\n",
    "        labels = labels.to(device)\n",
    "        \n",
    "        optimizer.zero_grad()\n",
    "        outputs = model(features)\n",
    "        loss = criterion(outputs, labels)\n",
    "        loss.backward()\n",
    "        optimizer.step()\n",
    "        \n",
    "        current_epoch_train_loss += loss.item() * features.size(0)\n",
    "    \n",
    "    epoch_train_loss = current_epoch_train_loss / len(train_loader.dataset)\n",
    "    train_losses.append(epoch_train_loss)\n",
    "    \n",
    "    # Фаза валидации\n",
    "    model.eval()\n",
    "    current_epoch_val_loss = 0.0\n",
    "    correct_predictions = 0\n",
    "    total_samples = 0\n",
    "    \n",
    "    with torch.no_grad():\n",
    "        for features, labels in val_loader:\n",
    "            features = features.to(device)\n",
    "            labels = labels.to(device)\n",
    "            \n",
    "            outputs = model(features)\n",
    "            loss = criterion(outputs, labels)\n",
    "            current_epoch_val_loss += loss.item() * features.size(0)\n",
    "            \n",
    "            predicted_probs = torch.sigmoid(outputs)\n",
    "            predicted_classes = (predicted_probs > 0.5).float()\n",
    "            total_samples += labels.size(0)\n",
    "            correct_predictions += (predicted_classes == labels).sum().item()\n",
    "    \n",
    "    epoch_val_loss = current_epoch_val_loss / len(val_loader.dataset)\n",
    "    epoch_val_accuracy = correct_predictions / total_samples\n",
    "    \n",
    "    val_losses.append(epoch_val_loss)\n",
    "    val_accuracies.append(epoch_val_accuracy)\n",
    "    \n",
    "    # Обновление планировщика\n",
    "    scheduler.step(epoch_val_loss)\n",
    "    current_lr = optimizer.param_groups[0]['lr']\n",
    "    \n",
    "    # Вывод результатов эпохи\n",
    "    if (epoch + 1) % 20 == 0 or epoch == 0:\n",
    "        print(f\"Эпоха [{epoch+1}/{num_epochs}]:\")\n",
    "        print(f\"  Train Loss: {epoch_train_loss:.4f}\")\n",
    "        print(f\"  Val Loss: {epoch_val_loss:.4f}\")\n",
    "        print(f\"  Val Accuracy: {epoch_val_accuracy:.4f}\")\n",
    "        print(f\"  Learning Rate: {current_lr:.6f}\")\n",
    "        print(\"-\" * 50)\n",
    "\n",
    "print(\"\\nОбучение завершено!\")"
   ]
  },
  {
   "cell_type": "markdown",
   "id": "94d19dec",
   "metadata": {},
   "source": [
    "### 13. ВИЗУАЛИЗАЦИЯ РЕЗУЛЬТАТОВ"
   ]
  },
  {
   "cell_type": "code",
   "execution_count": 56,
   "id": "dab63176",
   "metadata": {},
   "outputs": [
    {
     "data": {
      "image/png": "[encoded data removed]",
      "text/plain": [
       "<Figure size 1200x400 with 2 Axes>"
      ]
     },
     "metadata": {},
     "output_type": "display_data"
    }
   ],
   "source": [
    "plt.figure(figsize=(12, 4))\n",
    "\n",
    "plt.subplot(1, 2, 1)\n",
    "plt.plot(train_losses, label='Train Loss')\n",
    "plt.plot(val_losses, label='Validation Loss')\n",
    "plt.xlabel('Эпоха')\n",
    "plt.ylabel('Потеря')\n",
    "plt.legend()\n",
    "plt.title('Потери на обучении и валидации')\n",
    "\n",
    "plt.subplot(1, 2, 2)\n",
    "plt.plot(val_accuracies, label='Validation Accuracy')\n",
    "plt.xlabel('Эпоха')\n",
    "plt.ylabel('Точность')\n",
    "plt.legend()\n",
    "plt.title('Точность на валидации')\n",
    "\n",
    "plt.tight_layout()\n",
    "plt.show()\n"
   ]
  },
  {
   "cell_type": "markdown",
   "id": "ce854c40",
   "metadata": {},
   "source": [
    "### 14. СОЗДАНИЕ SUBMISSION ФАЙЛА"
   ]
  },
  {
   "cell_type": "code",
   "execution_count": 57,
   "id": "5c7c8152",
   "metadata": {},
   "outputs": [
    {
     "name": "stdout",
     "output_type": "stream",
     "text": [
      "Предсказания для 418 тестовых примеров сгенерированы.\n",
      "\n",
      "Submission файл 'submission_titanic_pytorch.csv' успешно создан.\n",
      "Первые 5 строк submission файла:\n",
      "   PassengerId  Survived\n",
      "0          892         0\n",
      "1          893         0\n",
      "2          894         0\n",
      "3          895         0\n",
      "4          896         0\n",
      "\n",
      "Распределение предсказаний:\n",
      "Выжили: 59 (14.1%)\n",
      "Погибли: 359 (85.9%)\n",
      "\n",
      "Финальная точность на валидации: 0.8258\n",
      "Анализ завершен!\n"
     ]
    }
   ],
   "source": [
    "model.eval()\n",
    "all_predictions = []\n",
    "\n",
    "with torch.no_grad():\n",
    "    for features_batch in test_loader:\n",
    "        features_batch = features_batch.to(device)\n",
    "        outputs_logits = model(features_batch)\n",
    "        predicted_probs = torch.sigmoid(outputs_logits)\n",
    "        predicted_classes = (predicted_probs > 0.5).int()\n",
    "        all_predictions.extend(predicted_classes.cpu().numpy().flatten().tolist())\n",
    "\n",
    "print(f\"Предсказания для {len(all_predictions)} тестовых примеров сгенерированы.\")\n",
    "\n",
    "# Создание submission файла\n",
    "if 'PassengerId' in df_test_original.columns:\n",
    "    if len(df_test_original) == len(all_predictions):\n",
    "        submission_df = pd.DataFrame({\n",
    "            'PassengerId': df_test_original['PassengerId'],\n",
    "            'Survived': all_predictions\n",
    "        })\n",
    "        \n",
    "        submission_filename = 'submission_titanic_pytorch.csv'\n",
    "        submission_df.to_csv(submission_filename, index=False)\n",
    "        \n",
    "        print(f\"\\nSubmission файл '{submission_filename}' успешно создан.\")\n",
    "        print(\"Первые 5 строк submission файла:\")\n",
    "        print(submission_df.head())\n",
    "        print(f\"\\nРаспределение предсказаний:\")\n",
    "        print(f\"Выжили: {sum(all_predictions)} ({sum(all_predictions)/len(all_predictions)*100:.1f}%)\")\n",
    "        print(f\"Погибли: {len(all_predictions)-sum(all_predictions)} ({(len(all_predictions)-sum(all_predictions))/len(all_predictions)*100:.1f}%)\")\n",
    "    else:\n",
    "        print(f\"\\nОшибка: Несовпадение количества предсказаний ({len(all_predictions)}) \"\n",
    "              f\"и строк в исходных данных ({len(df_test_original)})\")\n",
    "else:\n",
    "    print(\"\\nОшибка: Столбец 'PassengerId' не найден в исходных данных\")\n",
    "\n",
    "print(f\"\\nФинальная точность на валидации: {val_accuracies[-1]:.4f}\")\n",
    "print(\"Анализ завершен!\")"
   ]
  }
 ],
 "metadata": {
  "kernelspec": {
   "display_name": "Python 3 (ipykernel)",
   "language": "python",
   "name": "python3"
  },
  "language_info": {
   "codemirror_mode": {
    "name": "ipython",
    "version": 3
   },
   "file_extension": ".py",
   "mimetype": "text/x-python",
   "name": "python",
   "nbconvert_exporter": "python",
   "pygments_lexer": "ipython3",
   "version": "3.12.3"
  }
 },
 "nbformat": 4,
 "nbformat_minor": 5
}
