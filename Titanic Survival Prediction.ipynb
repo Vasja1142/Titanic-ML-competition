{
 "cells": [
  {
   "cell_type": "markdown",
   "id": "440bbbfd",
   "metadata": {},
   "source": [
    "### 1.Импорты"
   ]
  },
  {
   "cell_type": "code",
   "execution_count": 10,
   "id": "279f3599",
   "metadata": {},
   "outputs": [],
   "source": [
    "import csv\n",
    "import os \n",
    "import pandas as pd"
   ]
  },
  {
   "cell_type": "code",
   "execution_count": null,
   "id": "e9180644",
   "metadata": {},
   "outputs": [
    {
     "name": "stdout",
     "output_type": "stream",
     "text": [
      "Данные успешно загружены!\n",
      "\n",
      "Первые 5 строк тренировочного набора:\n",
      "   PassengerId  Survived  Pclass                                               Name     Sex   Age  SibSp  Parch            Ticket     Fare Cabin Embarked\n",
      "0            1         0       3                            Braund, Mr. Owen Harris    male  22.0      1      0         A/5 21171   7.2500   NaN        S\n",
      "1            2         1       1  Cumings, Mrs. John Bradley (Florence Briggs Th...  female  38.0      1      0          PC 17599  71.2833   C85        C\n",
      "2            3         1       3                             Heikkinen, Miss. Laina  female  26.0      0      0  STON/O2. 3101282   7.9250   NaN        S\n",
      "3            4         1       1       Futrelle, Mrs. Jacques Heath (Lily May Peel)  female  35.0      1      0            113803  53.1000  C123        S\n",
      "4            5         0       3                           Allen, Mr. William Henry    male  35.0      0      0            373450   8.0500   NaN        S\n",
      "\n",
      "Размер тренировочного набора: (891, 12)\n",
      "Размер тестового набора: (418, 11)\n"
     ]
    }
   ],
   "source": [
    "PATH = \"data\"\n",
    "\n",
    "pd.set_option('display.width', 1000) # Для того чтобы выводилась таблица без переносов\n",
    "\n",
    "# Используем os.path.join для кроссплатформенности, так как в linux и windows по разному строятся пути к файлам\n",
    "FILETEST = os.path.join(PATH, \"test.csv\")    \n",
    "FILETRAIN = os.path.join(PATH, \"train.csv\") \n",
    "\n",
    "try:\n",
    "    df_train = pd.read_csv(FILETRAIN)\n",
    "    df_test = pd.read_csv(FILETEST)\n",
    "    print(\"Данные успешно загружены!\")\n",
    "    print(\"\\nПервые 5 строк тренировочного набора:\")\n",
    "    print(df_train.head())\n",
    "    print(f\"\\nРазмер тренировочного набора: {df_train.shape}\")\n",
    "    print(f\"Размер тестового набора: {df_test.shape}\")\n",
    "except FileNotFoundError:\n",
    "    print(f\"Ошибка: Один из файлов не найден. Проверьте пути:\\n- {FILETRAIN}\\n- {FILETEST}\")\n",
    "except Exception as e:\n",
    "    print(f\"Произошла ошибка при загрузке данных: {e}\")\n"
   ]
  }
 ],
 "metadata": {
  "kernelspec": {
   "display_name": "Python 3 (ipykernel)",
   "language": "python",
   "name": "python3"
  },
  "language_info": {
   "codemirror_mode": {
    "name": "ipython",
    "version": 3
   },
   "file_extension": ".py",
   "mimetype": "text/x-python",
   "name": "python",
   "nbconvert_exporter": "python",
   "pygments_lexer": "ipython3",
   "version": "3.12.3"
  }
 },
 "nbformat": 4,
 "nbformat_minor": 5
}
